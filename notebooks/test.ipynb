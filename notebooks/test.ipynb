{
 "cells": [
  {
   "cell_type": "code",
   "execution_count": 1,
   "id": "4901685d-09eb-4c7b-b3b4-c1672de5ceb0",
   "metadata": {},
   "outputs": [],
   "source": [
    "from ztmwarsaw.api.bus_caller import BusCaller"
   ]
  },
  {
   "cell_type": "code",
   "execution_count": 2,
   "id": "3e2e5dd4-278e-4e32-945c-8aad43e59bc0",
   "metadata": {},
   "outputs": [
    {
     "data": {
      "text/plain": [
       "{'result': 'false', 'error': 'Nieautoryzowany dostęp do danych'}"
      ]
     },
     "execution_count": 2,
     "metadata": {},
     "output_type": "execute_result"
    }
   ],
   "source": [
    "buscaller = BusCaller()\n",
    "buscaller.build(api_key=\"54b839d9-364d-4877-ae15-a624352175a3\")\n",
    "buscaller.call()"
   ]
  },
  {
   "cell_type": "code",
   "execution_count": null,
   "id": "cf29823f-b1a6-4830-a327-48a66cd7bd5d",
   "metadata": {},
   "outputs": [],
   "source": [
    "with urlopen(self.url) as url:\n",
    "    response = url.read()\n",
    "    print(json.loads(response.decode(\"utf-8\")))"
   ]
  }
 ],
 "metadata": {
  "kernelspec": {
   "display_name": "Python 3 (ipykernel)",
   "language": "python",
   "name": "python3"
  },
  "language_info": {
   "codemirror_mode": {
    "name": "ipython",
    "version": 3
   },
   "file_extension": ".py",
   "mimetype": "text/x-python",
   "name": "python",
   "nbconvert_exporter": "python",
   "pygments_lexer": "ipython3",
   "version": "3.10.12"
  }
 },
 "nbformat": 4,
 "nbformat_minor": 5
}
