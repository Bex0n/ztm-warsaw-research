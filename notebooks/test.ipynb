{
 "cells": [
  {
   "cell_type": "code",
   "execution_count": null,
   "id": "4901685d-09eb-4c7b-b3b4-c1672de5ceb0",
   "metadata": {},
   "outputs": [],
   "source": [
    "from ztmwarsaw.api.bus_caller import BusCaller"
   ]
  },
  {
   "cell_type": "code",
   "execution_count": null,
   "id": "3e2e5dd4-278e-4e32-945c-8aad43e59bc0",
   "metadata": {},
   "outputs": [
    {
     "name": "stdout",
     "output_type": "stream",
     "text": [
      "https://api.um.warszawa.pl/api/action/datastore_search?resource_id=54b839d9-364d-4877-ae15-a624352175a3&apikey=54b839d9-364d-4877-ae15-a624352175a3\n"
     ]
    },
    {
     "data": {
      "text/plain": [
       "{'result': 'Błędna metoda lub parametry wywołania'}"
      ]
     },
     "execution_count": 2,
     "metadata": {},
     "output_type": "execute_result"
    }
   ],
   "source": [
    "buscaller = BusCaller()\n",
    "buscaller.build(apikey=\"54b839d9-364d-4877-ae15-a624352175a3\")\n",
    "buscaller.call()"
   ]
  },
  {
   "cell_type": "code",
   "execution_count": null,
   "id": "9c69dd2c-13b2-4256-a4c4-f34324e7fa4f",
   "metadata": {},
   "outputs": [
    {
     "name": "stdout",
     "output_type": "stream",
     "text": [
      "{'result': [{'Lines': '157', 'Lon': 20.976549, 'VehicleNumber': '9424', 'Time': '2024-01-11 22:16:24', 'Lat': 52.289917, 'Brigade': '3'}, {'Lines': '157', 'Lon': 20.982937, 'VehicleNumber': '9426', 'Time': '2024-01-11 22:16:20', 'Lat': 52.248955, 'Brigade': '5'}, {'Lines': '157', 'Lon': 20.980892, 'VehicleNumber': '9429', 'Time': '2024-01-11 22:16:21', 'Lat': 52.275276, 'Brigade': '430'}, {'Lines': '157', 'Lon': 21.015215, 'VehicleNumber': '9432', 'Time': '2024-01-11 22:16:21', 'Lat': 52.318569, 'Brigade': '4'}, {'Lines': '157', 'Lon': 21.01499, 'VehicleNumber': '9440', 'Time': '2024-01-11 22:11:40', 'Lat': 52.318089, 'Brigade': '9'}, {'Lines': '157', 'Lon': 20.981087, 'VehicleNumber': '9441', 'Time': '2024-01-11 22:16:24', 'Lat': 52.216572, 'Brigade': '8'}, {'Lines': '157', 'Lon': 20.98484, 'VehicleNumber': '9442', 'Time': '2024-01-11 22:16:22', 'Lat': 52.246758, 'Brigade': '10'}, {'Lines': '157', 'Lon': 21.015392, 'VehicleNumber': '9443', 'Time': '2024-01-11 20:29:15', 'Lat': 52.319038, 'Brigade': '011'}, {'Lines': '157', 'Lon': 21.014984, 'VehicleNumber': '9445', 'Time': '2024-01-11 22:16:20', 'Lat': 52.318893, 'Brigade': '1'}, {'Lines': '157', 'Lon': 21.015638, 'VehicleNumber': '9449', 'Time': '2024-01-11 20:22:41', 'Lat': 52.318645, 'Brigade': '011'}, {'Lines': '157', 'Lon': 21.015503, 'VehicleNumber': '9453', 'Time': '2024-01-11 20:45:34', 'Lat': 52.319061, 'Brigade': '6'}, {'Lines': '157', 'Lon': 20.963812, 'VehicleNumber': '9454', 'Time': '2024-01-11 22:16:22', 'Lat': 52.207996, 'Brigade': '6'}, {'Lines': '157', 'Lon': 21.014074, 'VehicleNumber': '9455', 'Time': '2024-01-11 22:16:22', 'Lat': 52.318092, 'Brigade': '7'}]}\n"
     ]
    }
   ],
   "source": [
    "import requests\n",
    "\n",
    "url = \"https://api.um.warszawa.pl/api/action/busestrams_get/\"\n",
    "params = {\n",
    "    \"resource_id\": \"f2e5503e-927d-4ad3-9500-4ab9e55deb59\",\n",
    "    \"apikey\": \"54b839d9-364d-4877-ae15-a624352175a3\",\n",
    "    \"type\": 1,\n",
    "    \"line\": 157\n",
    "}\n",
    "r = requests.get(url=url, params=params)\n",
    "response = r.json()\n",
    "print(response)"
   ]
  },
  {
   "cell_type": "code",
   "execution_count": null,
   "id": "b4b8a3e9-d550-44f9-8c89-d613ee906fc6",
   "metadata": {},
   "outputs": [],
   "source": []
  }
 ],
 "metadata": {
  "kernelspec": {
   "display_name": "Python 3 (ipykernel)",
   "language": "python",
   "name": "python3"
  },
  "language_info": {
   "codemirror_mode": {
    "name": "ipython",
    "version": 3
   },
   "file_extension": ".py",
   "mimetype": "text/x-python",
   "name": "python",
   "nbconvert_exporter": "python",
   "pygments_lexer": "ipython3",
   "version": "3.10.12"
  }
 },
 "nbformat": 4,
 "nbformat_minor": 5
}
