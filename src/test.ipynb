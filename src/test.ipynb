{
 "cells": [
  {
   "cell_type": "code",
   "execution_count": null,
   "id": "c7befd99-24bd-4d71-983c-f0966b208931",
   "metadata": {
    "tags": []
   },
   "outputs": [
    {
     "name": "stderr",
     "output_type": "stream",
     "text": [
      "Tracking Bus:  83%|█████████████████████████████████████████████████████████▌           | 5/6 [00:41<00:09,  9.50s/it]"
     ]
    }
   ],
   "source": [
    "from ztmwarsaw.api.BusCaller import BusCaller\n",
    "from ztmwarsaw.tracker.BusTracker import BusTracker\n",
    "\n",
    "buscaller = BusCaller(apikey=\"54b839d9-364d-4877-ae15-a624352175a3\")\n",
    "bustracker = BusTracker(buscaller)\n",
    "\n",
    "result = bustracker.track(line=\"157\", duration=60, frequency=10, vehicle_number=\"9417\")\n",
    "\n",
    "print(result)"
   ]
  },
  {
   "cell_type": "code",
   "execution_count": null,
   "id": "bb7c7a7c-4990-452f-91bd-63ef2306e18a",
   "metadata": {
    "tags": []
   },
   "outputs": [],
   "source": [
    "import io\n",
    "import folium\n",
    "from selenium import webdriver\n",
    "from selenium.webdriver.chrome.options import Options\n",
    "from PIL import Image\n",
    "import time\n",
    "\n",
    "# Create a map object\n",
    "map = folium.Map(location=[52.2297, 21.0122], zoom_start=12)\n",
    "folium.Marker([52.2297, 21.0122]).add_to(map)\n",
    "\n",
    "# Save the map to an HTML file\n",
    "map.save('warsaw_map.html')\n",
    "\n",
    "# Use selenium to open the HTML file in a browser and take a screenshot\n",
    "options = Options()\n",
    "options.add_argument(\"--headless\")\n",
    "options.add_argument(\"--no-sandbox\")\n",
    "options.add_argument(\"--disable-dev-shm-usage\")\n",
    "driver = webdriver.Chrome(options=options)\n",
    "\n",
    "png = map._to_png(5, driver=driver)\n",
    "image = Image.open(io.BytesIO(png))\n",
    "image.save(\"./MAPKA.png\")\n",
    "driver.quit()\n"
   ]
  },
  {
   "cell_type": "code",
   "execution_count": null,
   "id": "692039e1-6dc6-48d0-b228-b48ec13d8516",
   "metadata": {},
   "outputs": [],
   "source": []
  }
 ],
 "metadata": {
  "kernelspec": {
   "display_name": "Python 3 (ipykernel)",
   "language": "python",
   "name": "python3"
  },
  "language_info": {
   "codemirror_mode": {
    "name": "ipython",
    "version": 3
   },
   "file_extension": ".py",
   "mimetype": "text/x-python",
   "name": "python",
   "nbconvert_exporter": "python",
   "pygments_lexer": "ipython3",
   "version": "3.11.5"
  }
 },
 "nbformat": 4,
 "nbformat_minor": 5
}
